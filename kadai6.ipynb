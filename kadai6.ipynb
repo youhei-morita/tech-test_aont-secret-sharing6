{
 "cells": [
  {
   "cell_type": "markdown",
   "metadata": {},
   "source": [
    "ライブラリ"
   ]
  },
  {
   "cell_type": "code",
   "execution_count": 59,
   "metadata": {},
   "outputs": [],
   "source": [
    "import os\n",
    "from cryptography.hazmat.primitives.ciphers import Cipher, algorithms, modes\n",
    "from cryptography.hazmat.backends import default_backend"
   ]
  },
  {
   "cell_type": "markdown",
   "metadata": {},
   "source": [
    "下準備"
   ]
  },
  {
   "cell_type": "code",
   "execution_count": 60,
   "metadata": {},
   "outputs": [
    {
     "name": "stdout",
     "output_type": "stream",
     "text": [
      "m_1: b'This message'\n",
      "m_2: b'is for'\n",
      "m_3: b'practicing AONT'\n",
      "m_4: b'distributed'\n",
      "m_5: b'processing.'\n"
     ]
    }
   ],
   "source": [
    "def split_message_to_bytes(message, num_blocks):\n",
    "    # メッセージをスペースで分割して単語ごとのリストにする\n",
    "    words = message.split()\n",
    "    \n",
    "    # 単語数をブロック数で分割する\n",
    "    words_per_block = len(words) // num_blocks\n",
    "    \n",
    "    # 分割されたブロックを格納するリスト\n",
    "    blocks = []\n",
    "\n",
    "    # 単語数がブロック数で割り切れない場合、余りを処理するための変数\n",
    "    remainder = len(words) % num_blocks\n",
    "    \n",
    "    # ブロックごとに単語を割り当てる\n",
    "    start = 0\n",
    "    for i in range(num_blocks):\n",
    "        # 残りの余りが0でない場合、1つのブロックに余りを追加する\n",
    "        if remainder > 0:\n",
    "            block_length = words_per_block + 1\n",
    "            remainder -= 1\n",
    "        else:\n",
    "            block_length = words_per_block\n",
    "        \n",
    "        # ブロックを作成し、ブロックリストに追加\n",
    "        block = ' '.join(words[start:start+block_length])\n",
    "        # ブロックをバイト表現に変換して追加\n",
    "        block_bytes = block.encode('utf-8')\n",
    "        blocks.append(block_bytes)\n",
    "        \n",
    "        # 次の開始位置を更新\n",
    "        start += block_length\n",
    "\n",
    "    return blocks\n",
    "\n",
    "# テスト用メッセージ\n",
    "m = \"This message is for practicing AONT distributed processing.\"\n",
    "# 分割するブロック数\n",
    "num_blocks = 5\n",
    "\n",
    "# メッセージを分割してブロックを取得\n",
    "blocks_bytes = split_message_to_bytes(m, num_blocks)\n",
    "\n",
    "# ブロックを出力\n",
    "for i, block_bytes in enumerate(blocks_bytes):\n",
    "    print(f\"m_{i+1}: {block_bytes}\")"
   ]
  },
  {
   "cell_type": "code",
   "execution_count": 61,
   "metadata": {},
   "outputs": [
    {
     "name": "stdout",
     "output_type": "stream",
     "text": [
      "共通鍵暗号の鍵: b'g\\xbc\\xab\\xfag\\x0c\\xb5\\x84\\xeb]~\\xf3\\xa7%\\xe3\\xa0'\n"
     ]
    }
   ],
   "source": [
    "# 鍵の長さ（バイト単位）\n",
    "key_length = 16  # 例として16バイトの鍵を生成します\n",
    "\n",
    "# ランダムなバイト列を生成して鍵として使用する\n",
    "k = os.urandom(key_length)\n",
    "\n",
    "# 共通鍵暗号の鍵を表示\n",
    "print(\"共通鍵暗号の鍵:\", k)"
   ]
  },
  {
   "cell_type": "code",
   "execution_count": 62,
   "metadata": {},
   "outputs": [
    {
     "name": "stdout",
     "output_type": "stream",
     "text": [
      "公開された共通鍵暗号の鍵: b'4\\x8d\\x814.\\xd5\\x06\\x9b-T\\x1aR\\x8e(\\xc6\\xa6'\n"
     ]
    }
   ],
   "source": [
    "# 鍵の長さ（バイト単位）\n",
    "key_length = 16  # 例として16バイトの鍵を生成します\n",
    "\n",
    "# ランダムなバイト列を生成して鍵として使用する\n",
    "k_0 = os.urandom(key_length)\n",
    "\n",
    "# 公開された共通鍵暗号の鍵を表示\n",
    "print(\"公開された共通鍵暗号の鍵:\", k_0)"
   ]
  },
  {
   "cell_type": "code",
   "execution_count": 63,
   "metadata": {},
   "outputs": [
    {
     "name": "stdout",
     "output_type": "stream",
     "text": [
      "任意の共通鍵暗号化: b'\\xb0,\\xc61\\xaa\\xbcY\\x01=\\x1f/\\xb2\\xfdf\\xc7\\x1f\\xd7P\\xe0\\xff\\xb2\\xe6\\xb5n\\x90i}\\x8b\\x89\\xdc\\xae\\xd38o\\xe5@-\\x1a\\x80Y\\x81\\x8b\\xf8\\xd2\\x86j\\x8a\\xec\\xad\\xf7\\xa3\\r\\x94\\x93\\xcbk\\x19\\xbf\\xd4\\xbf\\xdb\\x99\\xf4\\x8bo\\x87\\xa8\\xcdQ\\xafe\\x13c\\xa2bV\\xf3\\xffK)'\n"
     ]
    }
   ],
   "source": [
    "def pad(data):\n",
    "    # PKCS7 パディングを適用\n",
    "    padding_length = 16 - (len(data) % 16)\n",
    "    padded_data = data + bytes([padding_length] * padding_length)\n",
    "    return padded_data\n",
    "\n",
    "def Enc(key, plaintext):\n",
    "    # 鍵と初期化ベクトル（IV）の生成\n",
    "    iv = os.urandom(16)  # 16バイトのIVを生成\n",
    "    cipher = Cipher(algorithms.AES(key), modes.CBC(iv), backend=default_backend())\n",
    "    encryptor = cipher.encryptor()\n",
    "\n",
    "    # データをパディング\n",
    "    padded_plaintext = pad(plaintext)\n",
    "\n",
    "    # 暗号化\n",
    "    ciphertext = encryptor.update(padded_plaintext) + encryptor.finalize()\n",
    "    \n",
    "    return iv + ciphertext\n",
    "\n",
    "# 暗号化する鍵\n",
    "key = b'\\x00' * 16\n",
    "\n",
    "# 暗号化するデータ\n",
    "m = b'This message is for practicing AONT distributed processing.'\n",
    "\n",
    "# 暗号化\n",
    "encrypted_data = Enc(key, m)\n",
    "print(\"任意の共通鍵暗号化:\", encrypted_data)"
   ]
  },
  {
   "cell_type": "markdown",
   "metadata": {},
   "source": [
    "＊　AONTによる秘密分散化の仕組み"
   ]
  },
  {
   "cell_type": "markdown",
   "metadata": {},
   "source": [
    "１　s番目までの全てのブロックをシェアに変換する"
   ]
  },
  {
   "cell_type": "code",
   "execution_count": 64,
   "metadata": {},
   "outputs": [
    {
     "name": "stdout",
     "output_type": "stream",
     "text": [
      "m2_1: b'\\x8f/M\\xc1\\x1b\\xcc\\xf9\\xab\\xb7S\\xd8\\xf7'\n",
      "m2_2: b' \\x8a\\xfa\\xca.\\xac'\n",
      "m2_3: b'\\x04\\xd6h\\x9a?\\x91\\x89\\xbd\\xf3\\xa8\\x92\\x08\\xc5\\xf7>'\n",
      "m2_4: b'u\\xddk\\xea\\x7fHt\\xea\\x16<\\xd0'\n",
      "m2_5: b'\\xe2\\x9f#\\xd3\\xa9K\\xc8\\x91\\x82Wb'\n"
     ]
    }
   ],
   "source": [
    "# 各ブロックを m2_i に変換\n",
    "m2_blocks = []\n",
    "for i, block in enumerate(blocks, start=1):\n",
    "    # ブロックをバイト列に変換\n",
    "    block_bytes = block.encode('utf-8')\n",
    "    \n",
    "    # Enc 関数を使用して暗号化し、ブロックを変換\n",
    "    encrypted_block = Enc(k, bytes([i]))  # i をバイト列に変換して暗号化に渡す\n",
    "    m2_block = bytes(a ^ b for a, b in zip(block_bytes, encrypted_block))\n",
    "    \n",
    "    m2_blocks.append(m2_block)\n",
    "\n",
    "# 結果を出力\n",
    "for i, m2_block in enumerate(m2_blocks, start=1):\n",
    "    print(f\"m2_{i}: {m2_block}\")"
   ]
  },
  {
   "cell_type": "markdown",
   "metadata": {},
   "source": [
    "２　シェアのハッシュ値を得る"
   ]
  },
  {
   "cell_type": "code",
   "execution_count": 65,
   "metadata": {},
   "outputs": [
    {
     "name": "stdout",
     "output_type": "stream",
     "text": [
      "h_1: b'\\x89\\xf1\\xfd\\x87\\x0c0\\r6\\xb3\\xda\\xa9L\\x82\\xfa\\x19[\\xc9\\x90B\\xad\\xdd\\xe5\\x02\\xc2\\xf4\\xa4\\r\\xc7\\xb0._6'\n",
      "h_2: b'\\x97@\\xe8J\\x97X\\x88q\\x19?\\x1e,E\\x99\\x86\\xc2\\xdfN\\xfe\\xf3\\xbcw\\xd9\\x16\\xa4\\xb0^\\x08\\xc0;\\n\\xde'\n",
      "h_3: b'\\x8f\\x83\\x8f\\x81/\\xb6\\x96?u\\xf4\\x12\\\\\\x14\\xd5\\xc3\\xe8\\xf5H\\x97\\x8b\\\\\\xc0\\x17H\\x8a|\\xf3\\xb9\\xca\\x033N'\n",
      "h_4: b'\\xb0\\xf3\\x15\\x91\\xc7_\\x13\\xfe]q\\x0bTy\\xe3i\\xbc\\x88\\x0c\\xcf\\ru\\x95J\\xbdE\\r\"\\x9a\\x14\\x80\\x8bP'\n",
      "h_5: b'\\xa4\\n\\x1a\\xf0M\\xcc\\x1e\\xa4\\x83h\\xcc\\x17\\xf7.\\xc0&\\x06\\n\\x7f\\xfc\\x16\\x1f\\x9f\\xcd@\\xc2\\xe9\\xb3\\xc2\\xde<\\xf9'\n"
     ]
    }
   ],
   "source": [
    "hash_values = []\n",
    "for i, block in enumerate(blocks, start=1):\n",
    "# m2_i + i の排他的論理和を計算\n",
    "    xor_result = bytes(a ^ b for a, b in zip(block_bytes, bytes([i])))\n",
    "    \n",
    "    # Enc 関数を使用して暗号化し、ハッシュ値を計算\n",
    "    hash_value = Enc(k_0, xor_result)\n",
    "    \n",
    "    hash_values.append(hash_value)\n",
    "\n",
    "# 結果を出力\n",
    "for i, hash_value in enumerate(hash_values, start=1):\n",
    "    print(f\"h_{i}: {hash_value}\")\n"
   ]
  },
  {
   "cell_type": "code",
   "execution_count": 66,
   "metadata": {},
   "outputs": [
    {
     "name": "stdout",
     "output_type": "stream",
     "text": [
      "m2_(s+1): b'\\xe2w>\\xd7YA\\xab\\xa6\\xeaU\\x1c\\x8c\\xfa^\\x16K'\n"
     ]
    }
   ],
   "source": [
    "# m2_(s+1) を計算\n",
    "m2_splus1 = k\n",
    "for hash_value in hash_values:\n",
    "    m2_splus1 = bytes(a ^ b for a, b in zip(m2_splus1, hash_value))\n",
    "\n",
    "# 結果を出力\n",
    "print(f\"m2_(s+1): {m2_splus1}\")"
   ]
  },
  {
   "cell_type": "markdown",
   "metadata": {},
   "source": [
    "４　共通鍵暗号の鍵 k を破棄する"
   ]
  },
  {
   "cell_type": "code",
   "execution_count": 67,
   "metadata": {},
   "outputs": [],
   "source": [
    "# 共通鍵暗号の鍵 k を破棄する\n",
    "del k"
   ]
  },
  {
   "cell_type": "markdown",
   "metadata": {},
   "source": [
    "＊　復号の仕組み"
   ]
  },
  {
   "cell_type": "markdown",
   "metadata": {},
   "source": [
    "１　シェアのハッシュ値を得る"
   ]
  },
  {
   "cell_type": "code",
   "execution_count": 68,
   "metadata": {},
   "outputs": [
    {
     "name": "stdout",
     "output_type": "stream",
     "text": [
      "h_1: b'\\x89\\xf1\\xfd\\x87\\x0c0\\r6\\xb3\\xda\\xa9L\\x82\\xfa\\x19[\\xc9\\x90B\\xad\\xdd\\xe5\\x02\\xc2\\xf4\\xa4\\r\\xc7\\xb0._6'\n",
      "h_2: b'\\x97@\\xe8J\\x97X\\x88q\\x19?\\x1e,E\\x99\\x86\\xc2\\xdfN\\xfe\\xf3\\xbcw\\xd9\\x16\\xa4\\xb0^\\x08\\xc0;\\n\\xde'\n",
      "h_3: b'\\x8f\\x83\\x8f\\x81/\\xb6\\x96?u\\xf4\\x12\\\\\\x14\\xd5\\xc3\\xe8\\xf5H\\x97\\x8b\\\\\\xc0\\x17H\\x8a|\\xf3\\xb9\\xca\\x033N'\n",
      "h_4: b'\\xb0\\xf3\\x15\\x91\\xc7_\\x13\\xfe]q\\x0bTy\\xe3i\\xbc\\x88\\x0c\\xcf\\ru\\x95J\\xbdE\\r\"\\x9a\\x14\\x80\\x8bP'\n",
      "h_5: b'\\xa4\\n\\x1a\\xf0M\\xcc\\x1e\\xa4\\x83h\\xcc\\x17\\xf7.\\xc0&\\x06\\n\\x7f\\xfc\\x16\\x1f\\x9f\\xcd@\\xc2\\xe9\\xb3\\xc2\\xde<\\xf9'\n"
     ]
    }
   ],
   "source": [
    "for i, hash_value in enumerate(hash_values, start=1):\n",
    "    print(f\"h_{i}: {hash_value}\")"
   ]
  },
  {
   "cell_type": "markdown",
   "metadata": {},
   "source": [
    "２　共通鍵を復号する"
   ]
  },
  {
   "cell_type": "code",
   "execution_count": 69,
   "metadata": {},
   "outputs": [
    {
     "name": "stdout",
     "output_type": "stream",
     "text": [
      "結果: b'g\\xbc\\xab\\xfag\\x0c\\xb5\\x84\\xeb]~\\xf3\\xa7%\\xe3\\xa0'\n"
     ]
    }
   ],
   "source": [
    "\n",
    "# 排他的論理和を計算する関数\n",
    "def xor_bytes(bytes_list):\n",
    "    result = bytes_list[0]\n",
    "    for b in bytes_list[1:]:\n",
    "        result = bytes(a ^ b for a, b in zip(result, b))\n",
    "    return result\n",
    "\n",
    "# 式を計算\n",
    "result = xor_bytes([m2_splus1] + hash_values)\n",
    "\n",
    "print(\"結果:\", result)"
   ]
  },
  {
   "cell_type": "markdown",
   "metadata": {},
   "source": [
    "３　シェアからデータmを復号する"
   ]
  },
  {
   "cell_type": "code",
   "execution_count": 72,
   "metadata": {},
   "outputs": [
    {
     "name": "stdout",
     "output_type": "stream",
     "text": [
      "復号されたm_1:  b'j\\xc3\\xf8\\xb1\\xa0seM(!\\xfc]'\n",
      "復号されたm_2:  b'\\xc5fO\\xba\\x95\\x13'\n",
      "復号されたm_3:  b'\\xe1:\\xdd\\xea\\x84.\\x15[l\\xda\\xb6\\xa2|cy'\n",
      "復号されたm_4:  b'\\x901\\xde\\x9a\\xc4\\xf7\\xe8\\x0c\\x89N\\xf4'\n",
      "復号されたm_5:  b'\\x07s\\x96\\xa3\\x12\\xf4Tw\\x1d%F'\n"
     ]
    }
   ],
   "source": [
    "# Enc 関数を使用して暗号化\n",
    "encrypted_result = Enc(result, bytes([i]))\n",
    "\n",
    "# m2_iと復号した共通鍵の排他的論理和を計算    \n",
    "for i, m2_block in enumerate(m2_blocks, start=1):\n",
    "    decrypted_block= bytes(a ^ b for a, b in zip(m2_block, encrypted_result))   \n",
    "    print(f\"復号されたm_{i}: \",decrypted_block)\n"
   ]
  }
 ],
 "metadata": {
  "kernelspec": {
   "display_name": "Python 3",
   "language": "python",
   "name": "python3"
  },
  "language_info": {
   "codemirror_mode": {
    "name": "ipython",
    "version": 3
   },
   "file_extension": ".py",
   "mimetype": "text/x-python",
   "name": "python",
   "nbconvert_exporter": "python",
   "pygments_lexer": "ipython3",
   "version": "3.10.13"
  }
 },
 "nbformat": 4,
 "nbformat_minor": 2
}
